{
 "cells": [
  {
   "cell_type": "code",
   "execution_count": 1,
   "metadata": {},
   "outputs": [],
   "source": [
    "import pyspark\n",
    "from pyspark.sql import SparkSession\n",
    "\n",
    "from pyspark.sql import functions as F\n",
    "from pyspark.sql.functions import udf\n",
    "from pyspark.sql.types import IntegerType\n",
    "from pandas import Series"
   ]
  },
  {
   "cell_type": "code",
   "execution_count": 11,
   "metadata": {},
   "outputs": [
    {
     "name": "stdout",
     "output_type": "stream",
     "text": [
      "The autoreload extension is already loaded. To reload it, use:\n",
      "  %reload_ext autoreload\n"
     ]
    }
   ],
   "source": [
    "%load_ext autoreload\n",
    "%autoreload 2"
   ]
  },
  {
   "cell_type": "code",
   "execution_count": 12,
   "metadata": {},
   "outputs": [],
   "source": [
    "from src.journey_finder import JourneyFinder\n",
    "from src.delay_prediction import DelayPredictor"
   ]
  },
  {
   "cell_type": "code",
   "execution_count": 4,
   "metadata": {},
   "outputs": [],
   "source": [
    "from pyspark.ml import PipelineModel\n",
    "import getpass"
   ]
  },
  {
   "cell_type": "code",
   "execution_count": 5,
   "metadata": {},
   "outputs": [
    {
     "name": "stderr",
     "output_type": "stream",
     "text": [
      "Setting default log level to \"WARN\".\n",
      "To adjust logging level use sc.setLogLevel(newLevel). For SparkR, use setLogLevel(newLevel).\n"
     ]
    },
    {
     "data": {
      "text/html": [
       "\n",
       "            <div>\n",
       "                <p><b>SparkSession - in-memory</b></p>\n",
       "                \n",
       "        <div>\n",
       "            <p><b>SparkContext</b></p>\n",
       "\n",
       "            <p><a href=\"http://jupyter-surkov:4040\">Spark UI</a></p>\n",
       "\n",
       "            <dl>\n",
       "              <dt>Version</dt>\n",
       "                <dd><code>v3.5.0</code></dd>\n",
       "              <dt>Master</dt>\n",
       "                <dd><code>local[*]</code></dd>\n",
       "              <dt>AppName</dt>\n",
       "                <dd><code>final-project-surkov</code></dd>\n",
       "            </dl>\n",
       "        </div>\n",
       "        \n",
       "            </div>\n",
       "        "
      ],
      "text/plain": [
       "<pyspark.sql.session.SparkSession at 0x7f5929f59590>"
      ]
     },
     "execution_count": 5,
     "metadata": {},
     "output_type": "execute_result"
    }
   ],
   "source": [
    "spark = SparkSession.builder.appName('final-project-{0}'.format(getpass.getuser())).getOrCreate()\n",
    "\n",
    "sc = spark.sparkContext\n",
    "conf = sc.getConf()\n",
    "\n",
    "spark"
   ]
  },
  {
   "cell_type": "code",
   "execution_count": 6,
   "metadata": {},
   "outputs": [
    {
     "name": "stdout",
     "output_type": "stream",
     "text": [
      "Start Spark name:final-project-surkov, version:3.5.0\n"
     ]
    }
   ],
   "source": [
    "print(f'Start Spark name:{spark._sc.appName}, version:{spark.version}')"
   ]
  },
  {
   "cell_type": "code",
   "execution_count": 7,
   "metadata": {},
   "outputs": [
    {
     "name": "stderr",
     "output_type": "stream",
     "text": [
      "24/05/29 09:09:39 WARN NativeCodeLoader: Unable to load native-hadoop library for your platform... using builtin-java classes where applicable\n",
      "24/05/29 09:09:39 WARN DomainSocketFactory: The short-circuit local reads feature cannot be used because libhadoop cannot be loaded.\n",
      "                                                                                \r"
     ]
    }
   ],
   "source": [
    "loadedPipelineModel = PipelineModel.load(\"/user/kli/models\")\n",
    "\n",
    "hdfs_path = \"/user/kli/features_with_stats.parquet\"\n",
    "features_with_stats = spark.read.parquet(hdfs_path)"
   ]
  },
  {
   "cell_type": "code",
   "execution_count": 8,
   "metadata": {},
   "outputs": [
    {
     "name": "stderr",
     "output_type": "stream",
     "text": [
      "24/05/29 09:10:03 WARN SparkStringUtils: Truncated the string representation of a plan since it was too large. This behavior can be adjusted by setting 'spark.sql.debug.maxToStringFields'.\n",
      "[Stage 67:>                                                         (0 + 1) / 1]\r"
     ]
    }
   ],
   "source": [
    "station_ids = ['8501170:0:1', '8501160:0:2', '8592098', '8591818', '8592050', '8501120:0:1', '8504010:0:1', '8591976', '8592157', '8592152', '8579259', '8579257', '8595190'] \n",
    "timestamps = [1716836640.0, 1716837480.0, 1716838020.0, 1716838080.0, 1716838200.0, 1716838320.0, 1716838620.0, 1716839040.0, 1716839160.0, 1716839400.0, 1716839580.0, 1716839760.0, 1716840000.0]\n",
    "\n",
    "delayPredictor = DelayPredictor(features_with_stats=features_with_stats, loadedPipelineModel=loadedPipelineModel, spark=spark)\n",
    "delays = delayPredictor.predict(station_ids=station_ids, timestamps=timestamps)"
   ]
  },
  {
   "cell_type": "code",
   "execution_count": 9,
   "metadata": {},
   "outputs": [
    {
     "data": {
      "text/plain": [
       "[]"
      ]
     },
     "execution_count": 9,
     "metadata": {},
     "output_type": "execute_result"
    }
   ],
   "source": [
    "delays"
   ]
  },
  {
   "cell_type": "code",
   "execution_count": 13,
   "metadata": {},
   "outputs": [
    {
     "data": {
      "application/vnd.jupyter.widget-view+json": {
       "model_id": "f35ab2bf66e945e78b54738b740cb0e2",
       "version_major": 2,
       "version_minor": 0
      },
      "text/plain": [
       "Dropdown(description='Origin Stop:', options=('Bel-Air LEB (8501170)', 'Bel-Air LEB (8501170:0:1)', 'Belmont-s…"
      ]
     },
     "metadata": {},
     "output_type": "display_data"
    },
    {
     "data": {
      "application/vnd.jupyter.widget-view+json": {
       "model_id": "af9ba80fe620401db6a956eb77f73430",
       "version_major": 2,
       "version_minor": 0
      },
      "text/plain": [
       "Dropdown(description='Dest. Stop:', options=('Bel-Air LEB (8501170)', 'Bel-Air LEB (8501170:0:1)', 'Belmont-su…"
      ]
     },
     "metadata": {},
     "output_type": "display_data"
    },
    {
     "data": {
      "application/vnd.jupyter.widget-view+json": {
       "model_id": "69f75991fdb74d50a7e4f7372e7ab433",
       "version_major": 2,
       "version_minor": 0
      },
      "text/plain": [
       "Text(value='20:00:00', description='Arr. Time (HH:MM:SS)')"
      ]
     },
     "metadata": {},
     "output_type": "display_data"
    },
    {
     "data": {
      "application/vnd.jupyter.widget-view+json": {
       "model_id": "2fafd4029ccc40079b2f5f250b05eef3",
       "version_major": 2,
       "version_minor": 0
      },
      "text/plain": [
       "IntSlider(value=90, description='Confidence:', min=1)"
      ]
     },
     "metadata": {},
     "output_type": "display_data"
    },
    {
     "data": {
      "application/vnd.jupyter.widget-view+json": {
       "model_id": "6f37a7c2a043498ea69eebc4859d91c0",
       "version_major": 2,
       "version_minor": 0
      },
      "text/plain": [
       "Button(description='Find Journeys', style=ButtonStyle())"
      ]
     },
     "metadata": {},
     "output_type": "display_data"
    },
    {
     "data": {
      "application/vnd.jupyter.widget-view+json": {
       "model_id": "ebc9ae6ed78e4b0aa89dc7a9569fdb2a",
       "version_major": 2,
       "version_minor": 0
      },
      "text/plain": [
       "Label(value='')"
      ]
     },
     "metadata": {},
     "output_type": "display_data"
    },
    {
     "data": {
      "application/vnd.jupyter.widget-view+json": {
       "model_id": "18be52652f234c7fbb673cb5625e4aec",
       "version_major": 2,
       "version_minor": 0
      },
      "text/plain": [
       "Output()"
      ]
     },
     "metadata": {},
     "output_type": "display_data"
    }
   ],
   "source": [
    "import pandas as pd\n",
    "import ipywidgets as widgets\n",
    "from IPython.display import display\n",
    "from matplotlib import pyplot as plt\n",
    "\n",
    "timetable = pd.read_csv('data/timetable.csv')\n",
    "footpaths = pd.read_csv('data/footpaths.csv')\n",
    "stops_info = pd.read_csv('data/stops.csv')\n",
    "stops_info['stop_name_id'] = stops_info['stop_name'] + \" (\" + stops_info['stop_id'] + \")\"\n",
    "\n",
    "journey_finder = JourneyFinder(\n",
    "    timetable=timetable,\n",
    "    footpaths=footpaths,\n",
    "    stops_info=stops_info,\n",
    "    delay_predictor=delayPredictor\n",
    ")\n",
    "\n",
    "possible_stops = set(timetable['dep_stop']).union(set(timetable['arr_stop'])).union(set(footpaths['stop_id_a'])).union(set(footpaths['stop_id_b']))\n",
    "stops_info_subset = stops_info[stops_info['stop_id'].isin(possible_stops)]\n",
    "\n",
    "source_widget = widgets.Dropdown(\n",
    "    options=sorted(list(set(stops_info_subset['stop_name_id']))),\n",
    "    description='Origin Stop:',\n",
    ")\n",
    "\n",
    "destination_widget = widgets.Dropdown(\n",
    "    options=sorted(list(set(stops_info_subset['stop_name_id']))),\n",
    "    description='Dest. Stop:',\n",
    ")\n",
    "\n",
    "time_widget = widgets.Text(\n",
    "    value='20:00:00',\n",
    "    description='Arr. Time (HH:MM:SS)',\n",
    ")\n",
    "\n",
    "confidence_widget = widgets.IntSlider(\n",
    "    value=90,\n",
    "    min=1,\n",
    "    max=100,\n",
    "    step=1,\n",
    "    description='Confidence:',\n",
    "    orientation='horizontal',\n",
    ")\n",
    "\n",
    "button = widgets.Button(\n",
    "    description='Find Journeys'\n",
    ")\n",
    "\n",
    "output = widgets.Output()\n",
    "running = widgets.Label(value='')\n",
    "\n",
    "figs = []\n",
    "def update_profile_return(b):\n",
    "    global figs\n",
    "    \n",
    "    output.clear_output()\n",
    "    with output:\n",
    "        running.value = 'running...'\n",
    "        arrival_time = time_widget.value\n",
    "        new_figs = journey_finder.find_and_plot_journeys(\n",
    "            start_station_name_id=source_widget.value, \n",
    "            end_station_name_id=destination_widget.value, \n",
    "            arrival_datetime=arrival_time,\n",
    "        )\n",
    "        #_ = find_and_plot_journeys(timetable, footpaths, source_stop_id, destination_stop_id, arrival_time, verbose = True, num_journeys=5)\n",
    "        running.value = ''\n",
    "        \n",
    "        # update the global figs\n",
    "        figs = new_figs\n",
    "        \n",
    "\n",
    "button.on_click(update_profile_return)\n",
    "output.clear_output()\n",
    "display(source_widget, destination_widget, time_widget, confidence_widget, button, running, output)"
   ]
  },
  {
   "cell_type": "code",
   "execution_count": null,
   "metadata": {},
   "outputs": [],
   "source": []
  }
 ],
 "metadata": {
  "kernelspec": {
   "display_name": "Python 3 (ipykernel)",
   "language": "python",
   "name": "python3"
  },
  "language_info": {
   "codemirror_mode": {
    "name": "ipython",
    "version": 3
   },
   "file_extension": ".py",
   "mimetype": "text/x-python",
   "name": "python",
   "nbconvert_exporter": "python",
   "pygments_lexer": "ipython3",
   "version": "3.10.0"
  }
 },
 "nbformat": 4,
 "nbformat_minor": 4
}
