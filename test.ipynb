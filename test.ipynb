{
 "cells": [
  {
   "cell_type": "code",
   "execution_count": 1,
   "metadata": {},
   "outputs": [],
   "source": [
    "%load_ext autoreload\n",
    "%autoreload 2"
   ]
  },
  {
   "cell_type": "code",
   "execution_count": 2,
   "metadata": {},
   "outputs": [],
   "source": [
    "from src.journey_finder import JourneyFinder"
   ]
  },
  {
   "cell_type": "code",
   "execution_count": 3,
   "metadata": {},
   "outputs": [
    {
     "data": {
      "application/vnd.jupyter.widget-view+json": {
       "model_id": "afefc9ee8dc3457d88837f6d066e736d",
       "version_major": 2,
       "version_minor": 0
      },
      "text/plain": [
       "Dropdown(description='Origin Stop:', options=('Bel-Air LEB (8501170)', 'Bel-Air LEB (8501170:0:1)', 'Belmont-s…"
      ]
     },
     "metadata": {},
     "output_type": "display_data"
    },
    {
     "data": {
      "application/vnd.jupyter.widget-view+json": {
       "model_id": "6d4f1b59f47a4323a1a3c39bf07d8361",
       "version_major": 2,
       "version_minor": 0
      },
      "text/plain": [
       "Dropdown(description='Dest. Stop:', options=('Bel-Air LEB (8501170)', 'Bel-Air LEB (8501170:0:1)', 'Belmont-su…"
      ]
     },
     "metadata": {},
     "output_type": "display_data"
    },
    {
     "data": {
      "application/vnd.jupyter.widget-view+json": {
       "model_id": "fe96dfd442ee49d582a57f0c662a6bac",
       "version_major": 2,
       "version_minor": 0
      },
      "text/plain": [
       "Text(value='20:00:00', description='Arr. Time (HH:MM:SS)')"
      ]
     },
     "metadata": {},
     "output_type": "display_data"
    },
    {
     "data": {
      "application/vnd.jupyter.widget-view+json": {
       "model_id": "56d293332876467584ebd4bed84e5f74",
       "version_major": 2,
       "version_minor": 0
      },
      "text/plain": [
       "IntSlider(value=90, description='Confidence:', min=1)"
      ]
     },
     "metadata": {},
     "output_type": "display_data"
    },
    {
     "data": {
      "application/vnd.jupyter.widget-view+json": {
       "model_id": "6d17fef7f9d94d4689e4dc4f01002340",
       "version_major": 2,
       "version_minor": 0
      },
      "text/plain": [
       "Button(description='Find Journeys', style=ButtonStyle())"
      ]
     },
     "metadata": {},
     "output_type": "display_data"
    },
    {
     "data": {
      "application/vnd.jupyter.widget-view+json": {
       "model_id": "09c17414a7fc412992ac94f6e0f83674",
       "version_major": 2,
       "version_minor": 0
      },
      "text/plain": [
       "Label(value='')"
      ]
     },
     "metadata": {},
     "output_type": "display_data"
    },
    {
     "data": {
      "application/vnd.jupyter.widget-view+json": {
       "model_id": "272022fc563f478c8bd93c06be61e074",
       "version_major": 2,
       "version_minor": 0
      },
      "text/plain": [
       "Output()"
      ]
     },
     "metadata": {},
     "output_type": "display_data"
    }
   ],
   "source": [
    "import pandas as pd\n",
    "import ipywidgets as widgets\n",
    "from IPython.display import display\n",
    "from matplotlib import pyplot as plt\n",
    "\n",
    "timetable = pd.read_csv('data/timetable.csv')\n",
    "footpaths = pd.read_csv('data/footpaths.csv')\n",
    "stops_info = pd.read_csv('data/stops.csv')\n",
    "stops_info['stop_name_id'] = stops_info['stop_name'] + \" (\" + stops_info['stop_id'] + \")\"\n",
    "\n",
    "journey_finder = JourneyFinder(\n",
    "    timetable=timetable,\n",
    "    footpaths=footpaths,\n",
    "    stops_info=stops_info,\n",
    ")\n",
    "\n",
    "possible_stops = set(timetable['dep_stop']).union(set(timetable['arr_stop'])).union(set(footpaths['stop_id_a'])).union(set(footpaths['stop_id_b']))\n",
    "stops_info_subset = stops_info[stops_info['stop_id'].isin(possible_stops)]\n",
    "\n",
    "source_widget = widgets.Dropdown(\n",
    "    options=sorted(list(set(stops_info_subset['stop_name_id']))),\n",
    "    description='Origin Stop:',\n",
    ")\n",
    "\n",
    "destination_widget = widgets.Dropdown(\n",
    "    options=sorted(list(set(stops_info_subset['stop_name_id']))),\n",
    "    description='Dest. Stop:',\n",
    ")\n",
    "\n",
    "time_widget = widgets.Text(\n",
    "    value='20:00:00',\n",
    "    description='Arr. Time (HH:MM:SS)',\n",
    ")\n",
    "\n",
    "confidence_widget = widgets.IntSlider(\n",
    "    value=90,\n",
    "    min=1,\n",
    "    max=100,\n",
    "    step=1,\n",
    "    description='Confidence:',\n",
    "    orientation='horizontal',\n",
    ")\n",
    "\n",
    "button = widgets.Button(\n",
    "    description='Find Journeys'\n",
    ")\n",
    "\n",
    "output = widgets.Output()\n",
    "running = widgets.Label(value='')\n",
    "\n",
    "figs = []\n",
    "def update_profile_return(b):\n",
    "    global figs\n",
    "    \n",
    "    output.clear_output()\n",
    "    with output:\n",
    "        running.value = 'running...'\n",
    "        arrival_time = time_widget.value\n",
    "        new_figs = journey_finder.find_and_plot_journeys(\n",
    "            start_station_name_id=source_widget.value, \n",
    "            end_station_name_id=destination_widget.value, \n",
    "            arrival_datetime=arrival_time,\n",
    "        )\n",
    "        #_ = find_and_plot_journeys(timetable, footpaths, source_stop_id, destination_stop_id, arrival_time, verbose = True, num_journeys=5)\n",
    "        running.value = ''\n",
    "        \n",
    "        # update the global figs\n",
    "        figs = new_figs\n",
    "        \n",
    "\n",
    "button.on_click(update_profile_return)\n",
    "output.clear_output()\n",
    "display(source_widget, destination_widget, time_widget, confidence_widget, button, running, output)"
   ]
  },
  {
   "cell_type": "code",
   "execution_count": null,
   "metadata": {},
   "outputs": [],
   "source": []
  },
  {
   "cell_type": "code",
   "execution_count": null,
   "metadata": {},
   "outputs": [],
   "source": []
  }
 ],
 "metadata": {
  "kernelspec": {
   "display_name": "Python 3",
   "language": "python",
   "name": "python3"
  },
  "language_info": {
   "codemirror_mode": {
    "name": "ipython",
    "version": 3
   },
   "file_extension": ".py",
   "mimetype": "text/x-python",
   "name": "python",
   "nbconvert_exporter": "python",
   "pygments_lexer": "ipython3",
   "version": "3.10.13"
  }
 },
 "nbformat": 4,
 "nbformat_minor": 2
}
